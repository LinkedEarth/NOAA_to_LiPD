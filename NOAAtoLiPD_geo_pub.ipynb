{
 "cells": [
  {
   "cell_type": "code",
   "execution_count": 1,
   "metadata": {},
   "outputs": [],
   "source": [
    "\"\"\"\n",
    "1. URL example\n",
    "url = \"https://www.ncei.noaa.gov/pub/data/paleo/contributions_by_author/bhattacharya2018/bhattacharya2018jpc56.txt\"\n",
    "url1 = \"https://www.ncei.noaa.gov/pub/data/paleo/contributions_by_author/khider2014/khider2014-raw.txt\"\n",
    "\n",
    "2. extract study ID\n",
    "\n",
    "3. get metadata from NOAA API with study ID\n",
    "\n",
    "4. convert metadata to LiPD\n",
    "1) geo data\n",
    "2) publication\n",
    "\n",
    "\n",
    "#. reference\n",
    "lipd.net\n",
    "https://cp.copernicus.org/articles/12/1093/2016/cp-12-1093-2016-discussion.html#discussion\n",
    "\n",
    "LiPD utilities in Python: load, manipulate and write out lipd file\n",
    "https://github.com/nickmckay/LiPD-utilities\n",
    "\n",
    "https://lipdverse.org\n",
    "https://lipdverse.org/Temp12k/current_version/CangoCave.Talma.1992.html\n",
    "\"\"\"\n",
    "\n",
    "import requests\n",
    "import re\n",
    "\n",
    "# get metadata from extracted study ID\n",
    "def getMetaData (url):\n",
    "    txt_data = requests.get(url).text\n",
    "    splited_data = txt_data.split('\\n')\n",
    " \n",
    "   \n",
    "    # find \"study\" to get study id: 5 digits after \"study\"\n",
    "    study_lines = []\n",
    "    for line in splited_data:\n",
    "        if \"study\" in line.lower():\n",
    "            study_lines.append(line.lower().partition(\"study\")[2])\n",
    "            \n",
    "    study_id = getStudyID(study_lines)\n",
    "    \n",
    "    # NOAA API\n",
    "    api = \"https://www.ncdc.noaa.gov/paleo-search/study/search.json?NOAAStudyId=\" + study_id\n",
    "    \n",
    "    metadata = requests.get(api).json()\n",
    "    \n",
    "    # convert metadata to LiPD\n",
    "    noaa_geo = metadata['study'][0]['site'][0]['geo']\n",
    "    noaa_pub = metadata['study'][0]['publication'][0]\n",
    "    \n",
    "    lipd_geo = {\"geo\": {\"type\": noaa_geo['geoType'], \n",
    "                        \"geometry\": {\"type\": noaa_geo['geometry']['type'].capitalize(), \n",
    "                                     \"coordinates\": noaa_geo['geometry']['coordinates']\n",
    "                                    + [noaa_geo['properties']['minElevationMeters']]\n",
    "                                    },\n",
    "                        \"properties\": noaa_geo['properties']}}\n",
    "    \n",
    "    lipd_pub = {\"pub\": {\n",
    "        \"author\": getAuthor(noaa_pub['author']),\n",
    "        \"type\" : noaa_pub['type'],\n",
    "        \"identifier\" : [\n",
    "            {\"type\": noaa_pub['identifier']['type'],\n",
    "             \"id\": noaa_pub['identifier']['id'],\n",
    "             \"url\": noaa_pub['identifier']['url']}],\n",
    "        \"year\": noaa_pub['pubYear']}}\n",
    "\n",
    "    \n",
    "    return noaa_geo, noaa_pub, lipd_geo, lipd_pub\n",
    "\n",
    "            \n",
    "def getStudyID(study_lines):            \n",
    "    for line in study_lines:\n",
    "        temp = re.search('\\d{% s}'% 5, line)\n",
    "        study_id = (temp.group(0) if temp else '')\n",
    "        if study_id:\n",
    "            return study_id \n",
    "\n",
    "def getAuthor(author):        \n",
    "    names = flatten(author)\n",
    "    name_list = []\n",
    "    for name_cand in names:\n",
    "        if name_cand:\n",
    "            for name in name_cand.split(','):\n",
    "                name_list.append({\"name\": name.strip()})\n",
    "        else:\n",
    "            name_list.append({\"name\": None})\n",
    "            \n",
    "    return name_list\n",
    "\n",
    "# get values from nested dict\n",
    "def flatten(value):    \n",
    "    if isinstance(value, dict):\n",
    "        item = []\n",
    "        helper(value,item)\n",
    "    else:\n",
    "        item = [value]\n",
    "        \n",
    "    return item\n",
    "def helper(dict2, item):\n",
    "    \n",
    "    for key, value in dict2.items():\n",
    "        if isinstance(value, dict):\n",
    "            helper(value, item)\n",
    "        else:\n",
    "            item.append(value)\n",
    "    \n",
    "    return item"
   ]
  },
  {
   "cell_type": "code",
   "execution_count": 2,
   "metadata": {},
   "outputs": [],
   "source": [
    "url = \"https://www.ncei.noaa.gov/pub/data/paleo/contributions_by_author/bhattacharya2018/bhattacharya2018jpc56.txt\"\n",
    "url1 = \"https://www.ncei.noaa.gov/pub/data/paleo/contributions_by_author/khider2014/khider2014-raw.txt\""
   ]
  },
  {
   "cell_type": "code",
   "execution_count": 3,
   "metadata": {},
   "outputs": [],
   "source": [
    "noaa_geo, noaa_pub, lipd_geo, lipd_pub = getMetaData (url)"
   ]
  },
  {
   "cell_type": "code",
   "execution_count": 4,
   "metadata": {},
   "outputs": [],
   "source": [
    "noaa_geo1, noaa_pub1, lipd_geo1, lipd_pub1 = getMetaData (url1)"
   ]
  },
  {
   "cell_type": "code",
   "execution_count": 5,
   "metadata": {},
   "outputs": [
    {
     "data": {
      "text/plain": [
       "{'geoType': 'Feature',\n",
       " 'geometry': {'type': 'POINT', 'coordinates': ['27.4835', '-112.0743']},\n",
       " 'properties': {'southernmostLatitude': '27.4835',\n",
       "  'northernmostLatitude': '27.4835',\n",
       "  'westernmostLongitude': '-112.0743',\n",
       "  'easternmostLongitude': '-112.0743',\n",
       "  'minElevationMeters': '-881',\n",
       "  'maxElevationMeters': '-881'}}"
      ]
     },
     "execution_count": 5,
     "metadata": {},
     "output_type": "execute_result"
    }
   ],
   "source": [
    "noaa_geo"
   ]
  },
  {
   "cell_type": "code",
   "execution_count": 6,
   "metadata": {},
   "outputs": [
    {
     "data": {
      "text/plain": [
       "{'geo': {'type': 'Feature',\n",
       "  'geometry': {'type': 'Point',\n",
       "   'coordinates': ['27.4835', '-112.0743', '-881']},\n",
       "  'properties': {'southernmostLatitude': '27.4835',\n",
       "   'northernmostLatitude': '27.4835',\n",
       "   'westernmostLongitude': '-112.0743',\n",
       "   'easternmostLongitude': '-112.0743',\n",
       "   'minElevationMeters': '-881',\n",
       "   'maxElevationMeters': '-881'}}}"
      ]
     },
     "execution_count": 6,
     "metadata": {},
     "output_type": "execute_result"
    }
   ],
   "source": [
    "lipd_geo"
   ]
  },
  {
   "cell_type": "code",
   "execution_count": 7,
   "metadata": {},
   "outputs": [
    {
     "data": {
      "text/plain": [
       "{'author': {'name': 'Tripti Bhattacharya, Jessica E. Tierney, Jason A. Addison, James W. Murray'},\n",
       " 'pubYear': 2018,\n",
       " 'title': 'Ice-sheet modulation of deglacial North American monsoon intensification',\n",
       " 'journal': 'Nature Geoscience',\n",
       " 'volume': None,\n",
       " 'edition': None,\n",
       " 'issue': None,\n",
       " 'pages': None,\n",
       " 'reportNumber': None,\n",
       " 'citation': 'Tripti Bhattacharya, Jessica E. Tierney, Jason A. Addison, James W. Murray. 2018. Ice-sheet modulation of deglacial North American monsoon intensification. Nature Geoscience. . doi: 10.1038/s41561-018-0220-7',\n",
       " 'type': 'publication',\n",
       " 'identifier': {'type': 'doi',\n",
       "  'id': '10.1038/s41561-018-0220-7',\n",
       "  'url': 'http://dx.doi.org/10.1038/s41561-018-0220-7'},\n",
       " 'abstract': 'The North American monsoon, the dominant source of rainfall for much of the arid US Southwest, remains one of the least understood monsoon systems. The late Pleistocene evolution of this monsoon is poorly constrained, largely because glacial changes in winter rainfall obscure summer monsoon signatures in many regional proxy records. Here, we develop deglacial records of monsoon strength from isotopic analyses of leaf wax biomarkers in marine sediment cores. Reconstructions indicate a regional decrease in monsoon rainfall during the Last Glacial Maximum, and that the deglacial trajectory of the North American monsoon closely tracks changes in North American ice cover. In climate model simulations, North American ice cover shifts the westerlies southwards, favouring the mixing of cold, dry air into the US Southwest. This process, known as ventilation, weakens the monsoon by diluting the energy fluxes required for convection. As the ice sheet retreats northwards, the monsoon strengthens, and local ocean conditions may play a larger role in regulating its intensity. We conclude that on glacial-interglacial timescales, ice-sheet-induced reorganizations of atmospheric circulation have a dominant influence on the North American monsoon.',\n",
       " 'pubRank': '1'}"
      ]
     },
     "execution_count": 7,
     "metadata": {},
     "output_type": "execute_result"
    }
   ],
   "source": [
    "noaa_pub"
   ]
  },
  {
   "cell_type": "code",
   "execution_count": 8,
   "metadata": {},
   "outputs": [
    {
     "data": {
      "text/plain": [
       "{'pub': {'author': [{'name': 'Tripti Bhattacharya'},\n",
       "   {'name': 'Jessica E. Tierney'},\n",
       "   {'name': 'Jason A. Addison'},\n",
       "   {'name': 'James W. Murray'}],\n",
       "  'type': 'publication',\n",
       "  'identifier': [{'type': 'doi',\n",
       "    'id': '10.1038/s41561-018-0220-7',\n",
       "    'url': 'http://dx.doi.org/10.1038/s41561-018-0220-7'}],\n",
       "  'year': 2018}}"
      ]
     },
     "execution_count": 8,
     "metadata": {},
     "output_type": "execute_result"
    }
   ],
   "source": [
    "lipd_pub"
   ]
  },
  {
   "cell_type": "code",
   "execution_count": 9,
   "metadata": {},
   "outputs": [
    {
     "data": {
      "text/plain": [
       "{'geoType': 'Feature',\n",
       " 'geometry': {'type': 'POINT', 'coordinates': ['6.3', '125.83']},\n",
       " 'properties': {'southernmostLatitude': '6.3',\n",
       "  'northernmostLatitude': '6.3',\n",
       "  'westernmostLongitude': '125.83',\n",
       "  'easternmostLongitude': '125.83',\n",
       "  'minElevationMeters': '-2114',\n",
       "  'maxElevationMeters': '-2114'}}"
      ]
     },
     "execution_count": 9,
     "metadata": {},
     "output_type": "execute_result"
    }
   ],
   "source": [
    "noaa_geo1"
   ]
  },
  {
   "cell_type": "code",
   "execution_count": 10,
   "metadata": {},
   "outputs": [
    {
     "data": {
      "text/plain": [
       "{'geo': {'type': 'Feature',\n",
       "  'geometry': {'type': 'Point', 'coordinates': ['6.3', '125.83', '-2114']},\n",
       "  'properties': {'southernmostLatitude': '6.3',\n",
       "   'northernmostLatitude': '6.3',\n",
       "   'westernmostLongitude': '125.83',\n",
       "   'easternmostLongitude': '125.83',\n",
       "   'minElevationMeters': '-2114',\n",
       "   'maxElevationMeters': '-2114'}}}"
      ]
     },
     "execution_count": 10,
     "metadata": {},
     "output_type": "execute_result"
    }
   ],
   "source": [
    "lipd_geo1"
   ]
  },
  {
   "cell_type": "code",
   "execution_count": 11,
   "metadata": {},
   "outputs": [
    {
     "data": {
      "text/plain": [
       "{'author': None,\n",
       " 'pubYear': 2004,\n",
       " 'title': 'Decline of surface temperature and salinity in the western tropical Pacific Ocean in the Holocene epoch',\n",
       " 'journal': 'Nature',\n",
       " 'volume': None,\n",
       " 'edition': None,\n",
       " 'issue': None,\n",
       " 'pages': None,\n",
       " 'reportNumber': None,\n",
       " 'citation': 'Stott, L.D., K.G. Cannariato, R.C. Thunell, G.H. Haug, A. Koutavas, and S.P. Lund. 2004. Decline of surface temperature and salinity in the western tropical Pacific Ocean in the Holocene epoch. Nature, v. 431, p. 56-59.',\n",
       " 'type': 'publication',\n",
       " 'identifier': {'type': 'doi',\n",
       "  'id': '10.1038/nature0293',\n",
       "  'url': 'http://dx.doi.org/10.1038/nature0293'},\n",
       " 'abstract': None,\n",
       " 'pubRank': '3'}"
      ]
     },
     "execution_count": 11,
     "metadata": {},
     "output_type": "execute_result"
    }
   ],
   "source": [
    "noaa_pub1"
   ]
  },
  {
   "cell_type": "code",
   "execution_count": 12,
   "metadata": {},
   "outputs": [
    {
     "data": {
      "text/plain": [
       "{'pub': {'author': [{'name': None}],\n",
       "  'type': 'publication',\n",
       "  'identifier': [{'type': 'doi',\n",
       "    'id': '10.1038/nature0293',\n",
       "    'url': 'http://dx.doi.org/10.1038/nature0293'}],\n",
       "  'year': 2004}}"
      ]
     },
     "execution_count": 12,
     "metadata": {},
     "output_type": "execute_result"
    }
   ],
   "source": [
    "lipd_pub1"
   ]
  },
  {
   "cell_type": "code",
   "execution_count": null,
   "metadata": {},
   "outputs": [],
   "source": []
  }
 ],
 "metadata": {
  "kernelspec": {
   "display_name": "Python 3",
   "language": "python",
   "name": "python3"
  },
  "language_info": {
   "codemirror_mode": {
    "name": "ipython",
    "version": 3
   },
   "file_extension": ".py",
   "mimetype": "text/x-python",
   "name": "python",
   "nbconvert_exporter": "python",
   "pygments_lexer": "ipython3",
   "version": "3.7.2"
  }
 },
 "nbformat": 4,
 "nbformat_minor": 2
}
