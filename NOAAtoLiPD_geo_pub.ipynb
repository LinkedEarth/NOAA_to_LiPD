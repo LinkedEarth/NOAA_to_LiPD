{
 "cells": [
  {
   "cell_type": "code",
   "execution_count": 14,
   "metadata": {},
   "outputs": [],
   "source": [
    "\"\"\"\n",
    "1. lift table\n",
    "\n",
    "2. extract study ID\n",
    "\n",
    "3. get metadata from NOAA API with study ID\n",
    "\n",
    "4. convert metadata to LiPD\n",
    "1) geo data\n",
    "2) publication\n",
    "3) paleodata\n",
    "\n",
    "#. reference\n",
    "lipd.net\n",
    "https://cp.copernicus.org/articles/12/1093/2016/cp-12-1093-2016-discussion.html#discussion\n",
    "\n",
    "LiPD utilities in Python: load, manipulate and write out lipd file\n",
    "https://github.com/nickmckay/LiPD-utilities\n",
    "\n",
    "https://lipdverse.org\n",
    "https://lipdverse.org/Temp12k/current_version/CangoCave.Talma.1992.html\n",
    "\"\"\"\n",
    "\n",
    "import requests\n",
    "import re\n",
    "from collections import OrderedDict\n",
    "\n",
    "            \n",
    "def getStudyID(study_lines):            \n",
    "    for line in study_lines:\n",
    "        temp = re.search('\\d{% s}'% 5, line)\n",
    "        study_id = (temp.group(0) if temp else '')\n",
    "        if study_id:\n",
    "            return study_id \n",
    "\n",
    "def getAuthor(author):        \n",
    "    names = flatten(author)\n",
    "    name_list = []\n",
    "    for name_cand in names:\n",
    "        if name_cand:\n",
    "            for name in name_cand.split(','):\n",
    "                name_list.append({\"name\": name.strip()})\n",
    "        else:\n",
    "            name_list.append({\"name\": None})\n",
    "            \n",
    "    return name_list\n",
    "\n",
    "# get values from nested dict\n",
    "def flatten(value):    \n",
    "    if isinstance(value, dict):\n",
    "        item = []\n",
    "        helper(value,item)\n",
    "    else:\n",
    "        item = [value]\n",
    "        \n",
    "    return item\n",
    "def helper(dict2, item):\n",
    "    \n",
    "    for key, value in dict2.items():\n",
    "        if isinstance(value, dict):\n",
    "            helper(value, item)\n",
    "        else:\n",
    "            item.append(value)\n",
    "    \n",
    "    return item\n",
    "\n",
    "# find specific value from nested dict, list\n",
    "def flatten2(value, url):    \n",
    "    if isinstance(value, dict):\n",
    "        item = []\n",
    "        helper2(value,item, url)        \n",
    "\n",
    "    else:\n",
    "        if value == url:\n",
    "            item = [value]\n",
    "        \n",
    "    return item\n",
    "def helper2(dict2, item, url):\n",
    "    \n",
    "    for key, value in dict2.items():\n",
    "        if isinstance(value, dict):\n",
    "            helper2(value, item, url)\n",
    "            \n",
    "        elif isinstance(value, list):\n",
    "            helper3(value, item, url)\n",
    "        else:\n",
    "            if value == url:\n",
    "                item.append(dict2)\n",
    "    \n",
    "    return item\n",
    "\n",
    "def helper3(list2, item, url):    \n",
    "    for value in list2:\n",
    "        if isinstance(value, dict):\n",
    "            helper2(value, item, url)"
   ]
  },
  {
   "cell_type": "code",
   "execution_count": 15,
   "metadata": {},
   "outputs": [],
   "source": [
    "import pandas as pd\n",
    "import numpy as np\n",
    "\n",
    "def getTable (url):\n",
    "    txt_data = requests.get(url).text\n",
    "    txt_data = txt_data.replace('\\r', '')  # remove \"\\r\" in text\n",
    "    splited_data = txt_data.split('\\n')   \n",
    "    length = len(splited_data)\n",
    "    \n",
    "    # remove the ‘#’ in front\n",
    "    for i in range(length):\n",
    "        if splited_data[i].startswith(\"#\"):\n",
    "            splited_data[i] = splited_data[i][1:].lstrip()          \n",
    "   \n",
    "  \n",
    "    \"\"\"\n",
    "    tabular data: 1. tab seperated 2. the number of columns is the same in the table.     \n",
    "    \"\"\"\n",
    "    \n",
    "    # if tab seperated, get the number of tab seperated words (the number of columns)\n",
    "    num_cols = []\n",
    "    for i in range(length):\n",
    "        if \"\\t\" in splited_data[i]:\n",
    "            splited_data[i] = splited_data[i].split('\\t')\n",
    "            num_cols.append(len(splited_data[i]))\n",
    "        else:\n",
    "            num_cols.append(0)\n",
    "            \n",
    "    # get start index of table with # of columns            \n",
    "    start_index = []\n",
    "    for i, num in enumerate(num_cols):\n",
    "        if num > 2 and i != len(num_cols)-1 and num == num_cols[i+1] and num != num_cols[i-1] or num>2 and i == 0 and num ==num_cols[i+1]:\n",
    "            start_index.append(i)\n",
    "            \n",
    "    # get tabular data    \n",
    "    tables = []\n",
    "    for i in start_index:            \n",
    "        \n",
    "        table = [splited_data[i]]\n",
    "        num = len(splited_data[i])\n",
    "        for j in range(i+1, len(splited_data)):            \n",
    "            if len(splited_data[j]) == num:      \n",
    "                \n",
    "                table.append(splited_data[j])\n",
    "            else:\n",
    "                break\n",
    "                \n",
    "        if len(table) > 2: # # of raw > 2\n",
    "            tables.append(table)       \n",
    "        \n",
    "        # TBC: differentiate types of table: chronological and paleo information        \n",
    "            \n",
    "    return tables[-1]  # TBC: need to update for multiple table, missing value: change"
   ]
  },
  {
   "cell_type": "code",
   "execution_count": 16,
   "metadata": {},
   "outputs": [],
   "source": [
    "def getPaleoData (metadata, table, url): \n",
    "    paleodata = OrderedDict()\n",
    "    paleodata['paleo0'] = OrderedDict()\n",
    "    paleodata['paleo0']['measurementTable'] = OrderedDict()\n",
    "    paleodata['paleo0']['measurementTable']['paleo0measurement0'] = dict()\n",
    "    \n",
    "    paleodata['paleo0']['measurementTable']['paleo0measurement0']['tableName'] = 'paleo0measurement0'\n",
    "    paleodata['paleo0']['measurementTable']['paleo0measurement0']['missingValue'] = 'nan' \n",
    "    paleodata['paleo0']['measurementTable']['paleo0measurement0']['filename'] = None\n",
    "    \n",
    "    paleodata['paleo0']['measurementTable']['paleo0measurement0']['columns'] = OrderedDict()\n",
    "    \n",
    "    \n",
    "    # units\n",
    "    variables = []    \n",
    "    for variable in flatten2(metadata, url)[0]['variables']:\n",
    "        variables.append(variable['cvUnit'].split('>')[-1])\n",
    "    \n",
    "    for i, name in enumerate(table[0]):\n",
    "        paleodata['paleo0']['measurementTable']['paleo0measurement0']['columns'][name] = dict()\n",
    "        \n",
    "        paleodata['paleo0']['measurementTable']['paleo0measurement0']['columns'][name]['number'] = i+1\n",
    "        paleodata['paleo0']['measurementTable']['paleo0measurement0']['columns'][name]['variableName'] = name\n",
    "               \n",
    "        try:\n",
    "            paleodata['paleo0']['measurementTable']['paleo0measurement0']['columns'][name]['units'] = variables[i]\n",
    "        except:\n",
    "            paleodata['paleo0']['measurementTable']['paleo0measurement0']['columns'][name]['units'] = None\n",
    "        \n",
    "    \n",
    "        # value\n",
    "        value_list = []\n",
    "        for string in list(zip(*table[1:]))[i]:\n",
    "            try:\n",
    "                num = float(string)\n",
    "                \n",
    "                '''need to update for checking missing value, missing value=-999.9 (TBC)'''\n",
    "                if num == -999.9:                     \n",
    "                    value_list.append('nan')\n",
    "                else:\n",
    "                    value_list.append(float(string))\n",
    "            except:\n",
    "                value_list.append(string)\n",
    "        paleodata['paleo0']['measurementTable']['paleo0measurement0']['columns'][name]['value'] = value_list\n",
    "    \n",
    "    return paleodata"
   ]
  },
  {
   "cell_type": "code",
   "execution_count": null,
   "metadata": {},
   "outputs": [],
   "source": [
    "\n",
    "# get metadata from extracted study ID\n",
    "def getMetaData (url):\n",
    "    txt_data = requests.get(url).text\n",
    "    splited_data = txt_data.split('\\n')\n",
    " \n",
    "   \n",
    "    # find \"study\" to get study id: 5 digits after \"study\"\n",
    "    study_lines = []\n",
    "    for line in splited_data:\n",
    "        if \"study\" in line.lower():\n",
    "            study_lines.append(line.lower().partition(\"study\")[2])\n",
    "            \n",
    "#     study_id = getStudyID(study_lines)\n",
    "#     print(study_id)\n",
    "    \n",
    "    # NOAA API\n",
    "#     api = \"https://www.ncdc.noaa.gov/paleo-search/study/search.json?NOAAStudyId=\" + study_id\n",
    "    api = \"https://www.ncdc.noaa.gov/paleo-search/study/search.json?NOAAStudyId=24890\"\n",
    "    metadata = requests.get(api).json()\n",
    "    \n",
    "    # convert metadata to LiPD\n",
    "    \n",
    "    D = dict()   \n",
    "    \n",
    "#     noaa_geo = metadata['study'][0]['site'][0]['geo']\n",
    "#     noaa_pub = metadata['study'][0]['publication'][0]\n",
    "    \n",
    "#     D['geo'] = {\"geo\": {\"type\": noaa_geo['geoType'], \n",
    "#                         \"geometry\": {\"type\": noaa_geo['geometry']['type'].capitalize(), \n",
    "#                                      \"coordinates\": noaa_geo['geometry']['coordinates']\n",
    "#                                     + [noaa_geo['properties']['minElevationMeters']]\n",
    "#                                     },\n",
    "#                         \"properties\": noaa_geo['properties']}}\n",
    "    \n",
    "#     D['pub'] = {\"pub\": {\n",
    "#         \"author\": getAuthor(noaa_pub['author']),\n",
    "#         \"type\" : noaa_pub['type'],\n",
    "#         \"identifier\" : [\n",
    "#             {\"type\": noaa_pub['identifier']['type'],\n",
    "#              \"id\": noaa_pub['identifier']['id'],\n",
    "#              \"url\": noaa_pub['identifier']['url']}],\n",
    "#         \"year\": noaa_pub['pubYear']}}\n",
    "\n",
    "#     D['archiveType'] = \"\"\n",
    "\n",
    "#    # check # of columns are same => problem: notes column      \n",
    "    table = getTable(url)\n",
    "    D['paleoData'] = getPaleoData (metadata, table, url)\n",
    "    \n",
    "    return metadata, D"
   ]
  },
  {
   "cell_type": "code",
   "execution_count": 17,
   "metadata": {},
   "outputs": [],
   "source": [
    "\n"
   ]
  },
  {
   "cell_type": "code",
   "execution_count": 18,
   "metadata": {},
   "outputs": [],
   "source": [
    "url = \"https://www.ncei.noaa.gov/pub/data/paleo/contributions_by_author/bhattacharya2018/bhattacharya2018jpc56.txt\"\n",
    "url1 = \"https://www.ncei.noaa.gov/pub/data/paleo/contributions_by_author/khider2014/khider2014-raw.txt\"\n",
    "\n",
    "metadata, D = getMetaData (url)\n",
    "# metadata1, D1 = getMetaData (url1)"
   ]
  },
  {
   "cell_type": "code",
   "execution_count": 19,
   "metadata": {
    "scrolled": false
   },
   "outputs": [
    {
     "data": {
      "text/plain": [
       "{'paleoData': OrderedDict([('paleo0',\n",
       "               OrderedDict([('measurementTable',\n",
       "                             OrderedDict([('paleo0measurement0',\n",
       "                                           {'tableName': 'paleo0measurement0',\n",
       "                                            'missingValue': 'nan',\n",
       "                                            'filename': None,\n",
       "                                            'columns': OrderedDict([('depth_cm',\n",
       "                                                          {'number': 1,\n",
       "                                                           'variableName': 'depth_cm',\n",
       "                                                           'units': 'centimeter',\n",
       "                                                           'value': [512.0,\n",
       "                                                            537.0,\n",
       "                                                            593.0,\n",
       "                                                            609.0,\n",
       "                                                            658.0,\n",
       "                                                            701.0,\n",
       "                                                            741.0,\n",
       "                                                            762.0,\n",
       "                                                            823.0,\n",
       "                                                            876.0,\n",
       "                                                            899.0,\n",
       "                                                            944.0,\n",
       "                                                            964.0,\n",
       "                                                            1011.0,\n",
       "                                                            1023.0,\n",
       "                                                            1048.0,\n",
       "                                                            1063.0,\n",
       "                                                            1088.0]}),\n",
       "                                                         ('age_calBP',\n",
       "                                                          {'number': 2,\n",
       "                                                           'variableName': 'age_calBP',\n",
       "                                                           'units': 'calendar year before present',\n",
       "                                                           'value': [9798.6,\n",
       "                                                            9899.6,\n",
       "                                                            10134.0,\n",
       "                                                            10197.0,\n",
       "                                                            10395.0,\n",
       "                                                            10593.0,\n",
       "                                                            10789.0,\n",
       "                                                            10889.0,\n",
       "                                                            11189.0,\n",
       "                                                            11461.0,\n",
       "                                                            11581.0,\n",
       "                                                            11856.0,\n",
       "                                                            11987.0,\n",
       "                                                            12323.0,\n",
       "                                                            12417.0,\n",
       "                                                            12606.0,\n",
       "                                                            12717.0,\n",
       "                                                            12911.0]}),\n",
       "                                                         ('dDwax',\n",
       "                                                          {'number': 3,\n",
       "                                                           'variableName': 'dDwax',\n",
       "                                                           'units': 'per mil VSMOW',\n",
       "                                                           'value': [-147.94,\n",
       "                                                            -150.36,\n",
       "                                                            -147.32,\n",
       "                                                            -149.57,\n",
       "                                                            -148.86,\n",
       "                                                            -150.65,\n",
       "                                                            -156.35,\n",
       "                                                            -152.29,\n",
       "                                                            -154.04,\n",
       "                                                            -148.75,\n",
       "                                                            -148.29,\n",
       "                                                            -149.3,\n",
       "                                                            -146.47,\n",
       "                                                            -155.14,\n",
       "                                                            -154.98,\n",
       "                                                            -155.47,\n",
       "                                                            -156.56,\n",
       "                                                            -154.71]}),\n",
       "                                                         ('dDwax-iv',\n",
       "                                                          {'number': 4,\n",
       "                                                           'variableName': 'dDwax-iv',\n",
       "                                                           'units': 'per mil VSMOW',\n",
       "                                                           'value': [-148.94,\n",
       "                                                            -151.41,\n",
       "                                                            -148.47,\n",
       "                                                            -150.73,\n",
       "                                                            -150.08,\n",
       "                                                            -151.93,\n",
       "                                                            -157.68,\n",
       "                                                            -153.66,\n",
       "                                                            -155.67,\n",
       "                                                            -150.72,\n",
       "                                                            -150.41,\n",
       "                                                            -151.75,\n",
       "                                                            -149.08,\n",
       "                                                            -157.92,\n",
       "                                                            -157.8,\n",
       "                                                            -158.39,\n",
       "                                                            -159.54,\n",
       "                                                            -157.8]}),\n",
       "                                                         ('d13Cwax',\n",
       "                                                          {'number': 5,\n",
       "                                                           'variableName': 'd13Cwax',\n",
       "                                                           'units': 'per mil VSMOW',\n",
       "                                                           'value': [-26.429,\n",
       "                                                            -26.313,\n",
       "                                                            -26.717,\n",
       "                                                            -26.118,\n",
       "                                                            -25.753,\n",
       "                                                            -26.282,\n",
       "                                                            -26.004,\n",
       "                                                            -26.508,\n",
       "                                                            -26.63,\n",
       "                                                            -26.35,\n",
       "                                                            -27.246,\n",
       "                                                            -25.874,\n",
       "                                                            -25.742,\n",
       "                                                            -26.206,\n",
       "                                                            -26.159,\n",
       "                                                            -26.011,\n",
       "                                                            -26.302,\n",
       "                                                            -25.806]}),\n",
       "                                                         ('percentJAS',\n",
       "                                                          {'number': 6,\n",
       "                                                           'variableName': 'percentJAS',\n",
       "                                                           'units': 'percent',\n",
       "                                                           'value': [77.587,\n",
       "                                                            73.239,\n",
       "                                                            76.986,\n",
       "                                                            74.624,\n",
       "                                                            77.187,\n",
       "                                                            72.452,\n",
       "                                                            62.068,\n",
       "                                                            68.636,\n",
       "                                                            63.91,\n",
       "                                                            74.31,\n",
       "                                                            71.68,\n",
       "                                                            73.493,\n",
       "                                                            78.84,\n",
       "                                                            60.872,\n",
       "                                                            61.616,\n",
       "                                                            60.91,\n",
       "                                                            58.167,\n",
       "                                                            62.295]}),\n",
       "                                                         ('JASerror',\n",
       "                                                          {'number': 7,\n",
       "                                                           'variableName': 'JASerror',\n",
       "                                                           'units': 'percent',\n",
       "                                                           'value': [7.8528,\n",
       "                                                            7.8871,\n",
       "                                                            8.1359,\n",
       "                                                            8.0159,\n",
       "                                                            8.0041,\n",
       "                                                            7.8048,\n",
       "                                                            8.0316,\n",
       "                                                            7.8856,\n",
       "                                                            8.0646,\n",
       "                                                            8.0889,\n",
       "                                                            8.2013,\n",
       "                                                            7.928,\n",
       "                                                            7.8467,\n",
       "                                                            8.0186,\n",
       "                                                            8.0847,\n",
       "                                                            8.0551,\n",
       "                                                            8.0865,\n",
       "                                                            7.9379]})])})]))]))])}"
      ]
     },
     "execution_count": 19,
     "metadata": {},
     "output_type": "execute_result"
    }
   ],
   "source": [
    "D"
   ]
  },
  {
   "cell_type": "code",
   "execution_count": null,
   "metadata": {},
   "outputs": [],
   "source": [
    "getTable(url1)"
   ]
  },
  {
   "cell_type": "code",
   "execution_count": null,
   "metadata": {},
   "outputs": [],
   "source": [
    "l = [0]\n",
    "print(l[-1])"
   ]
  },
  {
   "cell_type": "code",
   "execution_count": null,
   "metadata": {},
   "outputs": [],
   "source": [
    "for variable in flatten2(metadata, url)[0]['variables']:\n",
    "    print(variable['cvUnit'].split('>')[-1]) "
   ]
  },
  {
   "cell_type": "code",
   "execution_count": null,
   "metadata": {
    "scrolled": false
   },
   "outputs": [],
   "source": [
    "flatten2(metadata, url)"
   ]
  },
  {
   "cell_type": "code",
   "execution_count": null,
   "metadata": {},
   "outputs": [],
   "source": [
    "url = \"https://www.ncei.noaa.gov/pub/data/paleo/contributions_by_author/bhattacharya2018/bhattacharya2018jpc56.txt\"\n",
    "url1 = \"https://www.ncei.noaa.gov/pub/data/paleo/contributions_by_author/khider2014/khider2014-raw.txt\"\n",
    "\n",
    "\n",
    "\"\"\"\n",
    "https://www.ncdc.noaa.gov/paleo-search/study/search.json?NOAAStudyId=24890\n",
    "https://www.ncdc.noaa.gov/paleo-search/study/search.json?NOAAStudyId=16055\n",
    "\n",
    "\n",
    "https://www.ncei.noaa.gov/pub/data/paleo/contributions_by_author/khider2014/khider2014-benth.txt\n",
    "#  Online_Resource: http://www.hurricane.ncdc.noaa.gov/pls/paleox/f?p=519:1:::::P1_STUDY_ID:16055\n",
    "https://www.ncdc.noaa.gov/paleo-search/study/search.json?NOAAStudyId=16055\n",
    "\n",
    "\"\"\""
   ]
  },
  {
   "cell_type": "code",
   "execution_count": null,
   "metadata": {},
   "outputs": [],
   "source": [
    "metadata1 = getMetaData (url1)\n",
    "\n",
    "# metadata1, D1 = getMetaData (url1)"
   ]
  },
  {
   "cell_type": "code",
   "execution_count": null,
   "metadata": {},
   "outputs": [],
   "source": [
    "metadata = getMetaData (url)"
   ]
  },
  {
   "cell_type": "code",
   "execution_count": null,
   "metadata": {},
   "outputs": [],
   "source": [
    "metadata1.keys()"
   ]
  },
  {
   "cell_type": "code",
   "execution_count": null,
   "metadata": {},
   "outputs": [],
   "source": [
    "metadata.keys()"
   ]
  },
  {
   "cell_type": "code",
   "execution_count": null,
   "metadata": {},
   "outputs": [],
   "source": [
    "len(metadata1['study'])"
   ]
  },
  {
   "cell_type": "code",
   "execution_count": null,
   "metadata": {},
   "outputs": [],
   "source": [
    "len(metadata['study'])"
   ]
  },
  {
   "cell_type": "code",
   "execution_count": null,
   "metadata": {},
   "outputs": [],
   "source": [
    "metadata1['study'][0].keys()"
   ]
  },
  {
   "cell_type": "code",
   "execution_count": null,
   "metadata": {},
   "outputs": [],
   "source": [
    "metadata['study'][0].keys()"
   ]
  },
  {
   "cell_type": "code",
   "execution_count": null,
   "metadata": {
    "scrolled": false
   },
   "outputs": [],
   "source": [
    "len(metadata1['study'][0]['site'])"
   ]
  },
  {
   "cell_type": "code",
   "execution_count": null,
   "metadata": {},
   "outputs": [],
   "source": [
    "len(metadata['study'][0]['site'])"
   ]
  },
  {
   "cell_type": "code",
   "execution_count": null,
   "metadata": {},
   "outputs": [],
   "source": [
    "metadata1['study'][0]['site'][0].keys()"
   ]
  },
  {
   "cell_type": "code",
   "execution_count": null,
   "metadata": {},
   "outputs": [],
   "source": [
    "len(metadata1['study'][0]['site'][0]['paleoData'])"
   ]
  },
  {
   "cell_type": "code",
   "execution_count": null,
   "metadata": {},
   "outputs": [],
   "source": []
  },
  {
   "cell_type": "code",
   "execution_count": null,
   "metadata": {},
   "outputs": [],
   "source": []
  },
  {
   "cell_type": "code",
   "execution_count": null,
   "metadata": {},
   "outputs": [],
   "source": []
  },
  {
   "cell_type": "code",
   "execution_count": null,
   "metadata": {},
   "outputs": [],
   "source": [
    "len(metadata['study'][0]['site'][0]['paleoData'])"
   ]
  },
  {
   "cell_type": "code",
   "execution_count": null,
   "metadata": {},
   "outputs": [],
   "source": []
  },
  {
   "cell_type": "code",
   "execution_count": null,
   "metadata": {},
   "outputs": [],
   "source": []
  },
  {
   "cell_type": "code",
   "execution_count": null,
   "metadata": {},
   "outputs": [],
   "source": [
    "metadata['study'][0]['site'][0]['paleoData']"
   ]
  },
  {
   "cell_type": "code",
   "execution_count": null,
   "metadata": {},
   "outputs": [],
   "source": [
    "for paleodata in metadata1['study'][0]['site'][0]['paleoData']:\n",
    "    if paleodata['dataFile'][0][\"fileUrl\"] == url1:\n",
    "        variables = paleodata['dataFile'][0]['variables']\n",
    "        length = len(variables)\n",
    "        \n",
    "        for variable in variables:\n",
    "            print(variable['cvUnit'].split('>')[-1]) \n",
    "\n",
    "    "
   ]
  },
  {
   "cell_type": "code",
   "execution_count": null,
   "metadata": {},
   "outputs": [],
   "source": []
  },
  {
   "cell_type": "code",
   "execution_count": null,
   "metadata": {},
   "outputs": [],
   "source": [
    "for paleodata in metadata['study'][0]['site'][0]['paleoData']:\n",
    "    print(paleodata['dataFile'][0][\"fileUrl\"])\n",
    "    if paleodata['dataFile'][0][\"fileUrl\"] == url:\n",
    "        variables = paleodata['dataFile'][0]['variables']\n",
    "        length = len(variables)\n",
    "        \n",
    "        for variable in variables:\n",
    "            print(variable['cvUnit'].split('>')[-1]) "
   ]
  },
  {
   "cell_type": "code",
   "execution_count": null,
   "metadata": {},
   "outputs": [],
   "source": [
    "url"
   ]
  },
  {
   "cell_type": "code",
   "execution_count": null,
   "metadata": {},
   "outputs": [],
   "source": []
  },
  {
   "cell_type": "code",
   "execution_count": null,
   "metadata": {},
   "outputs": [],
   "source": [
    "metadata1['study'][0]['site'][0]['paleoData'][1]['dataFile'][0][\"fileUrl\"]"
   ]
  },
  {
   "cell_type": "code",
   "execution_count": null,
   "metadata": {},
   "outputs": [],
   "source": [
    "metadata1['study'][0]['site'][0]['paleoData'][0]['dataFile']\n",
    "\n",
    "# cvUnit: unit, variable name: from text file columng"
   ]
  },
  {
   "cell_type": "code",
   "execution_count": null,
   "metadata": {},
   "outputs": [],
   "source": [
    "len(metadata1['study'][0]['site'][0]['paleoData'])"
   ]
  },
  {
   "cell_type": "code",
   "execution_count": null,
   "metadata": {},
   "outputs": [],
   "source": [
    "metadata1['study'][0]['site'][0]['paleoData'][0].keys()"
   ]
  },
  {
   "cell_type": "code",
   "execution_count": null,
   "metadata": {},
   "outputs": [],
   "source": [
    "metadata1['study'][0]['site'][0]['paleoData'][1].keys()"
   ]
  },
  {
   "cell_type": "code",
   "execution_count": null,
   "metadata": {},
   "outputs": [],
   "source": [
    "metadata1['study'][0]['site'][0]['paleoData'][2].keys()"
   ]
  },
  {
   "cell_type": "code",
   "execution_count": null,
   "metadata": {},
   "outputs": [],
   "source": [
    "metadata1['study'][0]['site'][0]['paleoData'][0]['dataFile']"
   ]
  },
  {
   "cell_type": "code",
   "execution_count": null,
   "metadata": {},
   "outputs": [],
   "source": [
    "metadata1['study'][0]['site'][0]['paleoData'][1]['dataFile']"
   ]
  },
  {
   "cell_type": "code",
   "execution_count": null,
   "metadata": {
    "scrolled": false
   },
   "outputs": [],
   "source": [
    "metadata1['study'][0]['site'][0]['paleoData'][2]['dataFile']"
   ]
  },
  {
   "cell_type": "code",
   "execution_count": null,
   "metadata": {},
   "outputs": [],
   "source": [
    "D1"
   ]
  },
  {
   "cell_type": "code",
   "execution_count": null,
   "metadata": {},
   "outputs": [],
   "source": [
    "metadata1['study'][0]['publication']"
   ]
  },
  {
   "cell_type": "code",
   "execution_count": null,
   "metadata": {},
   "outputs": [],
   "source": [
    "metadata['study'][0]['publication']"
   ]
  },
  {
   "cell_type": "code",
   "execution_count": null,
   "metadata": {},
   "outputs": [],
   "source": [
    "noaa_geo"
   ]
  },
  {
   "cell_type": "code",
   "execution_count": null,
   "metadata": {},
   "outputs": [],
   "source": [
    "lipd_geo"
   ]
  },
  {
   "cell_type": "code",
   "execution_count": null,
   "metadata": {},
   "outputs": [],
   "source": [
    "noaa_pub"
   ]
  },
  {
   "cell_type": "code",
   "execution_count": null,
   "metadata": {},
   "outputs": [],
   "source": [
    "lipd_pub"
   ]
  },
  {
   "cell_type": "code",
   "execution_count": null,
   "metadata": {},
   "outputs": [],
   "source": [
    "noaa_geo1"
   ]
  },
  {
   "cell_type": "code",
   "execution_count": null,
   "metadata": {},
   "outputs": [],
   "source": [
    "lipd_geo1"
   ]
  },
  {
   "cell_type": "code",
   "execution_count": null,
   "metadata": {},
   "outputs": [],
   "source": [
    "noaa_pub1"
   ]
  },
  {
   "cell_type": "code",
   "execution_count": null,
   "metadata": {},
   "outputs": [],
   "source": [
    "lipd_pub1"
   ]
  },
  {
   "cell_type": "code",
   "execution_count": null,
   "metadata": {},
   "outputs": [],
   "source": []
  }
 ],
 "metadata": {
  "kernelspec": {
   "display_name": "Python 3",
   "language": "python",
   "name": "python3"
  },
  "language_info": {
   "codemirror_mode": {
    "name": "ipython",
    "version": 3
   },
   "file_extension": ".py",
   "mimetype": "text/x-python",
   "name": "python",
   "nbconvert_exporter": "python",
   "pygments_lexer": "ipython3",
   "version": "3.7.2"
  }
 },
 "nbformat": 4,
 "nbformat_minor": 2
}
