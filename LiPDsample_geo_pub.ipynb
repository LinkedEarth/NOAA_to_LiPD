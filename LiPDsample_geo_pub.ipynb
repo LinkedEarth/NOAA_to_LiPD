{
 "cells": [
  {
   "cell_type": "code",
   "execution_count": 1,
   "metadata": {},
   "outputs": [],
   "source": [
    "import lipd\n",
    "\n",
    "\n",
    "# lipd.readExcel(path=\"\")\n",
    "# lipd.readNoaa(path=\"\")\n",
    "# D = lipd.readLipd(path=\"\")\n",
    "# lipd.writeLipd(D, path=\"\")\n",
    "# ts = lipd.extractTs(D, chron=False)\n",
    "# D = lipd.collapseTs(ts)\n",
    "# idx = lipd.queryTs(ts, expression)\n",
    "# new_ts = lipd.filterTs(ts, expression)\n",
    "# D = lipd.excel()\n",
    "# D = lipd.doi(D)\n"
   ]
  },
  {
   "cell_type": "code",
   "execution_count": 2,
   "metadata": {},
   "outputs": [
    {
     "name": "stdout",
     "output_type": "stream",
     "text": [
      "Disclaimer: LiPD files may be updated and modified to adhere to standards\n",
      "\n",
      "reading: Aus-StewartIsland.DArrigo.1996.lpd\n",
      "Finished read: 1 record\n",
      "Disclaimer: LiPD files may be updated and modified to adhere to standards\n",
      "\n",
      "reading: BP00_07_05.lpd\n",
      "Finished read: 1 record\n",
      "Disclaimer: LiPD files may be updated and modified to adhere to standards\n",
      "\n",
      "reading: CangoCave.Talma.1992.lpd\n",
      "Finished read: 1 record\n",
      "Disclaimer: LiPD files may be updated and modified to adhere to standards\n",
      "\n",
      "reading: Chaohu.Li.2018.lpd\n",
      "Finished read: 1 record\n",
      "Disclaimer: LiPD files may be updated and modified to adhere to standards\n",
      "\n",
      "reading: ODP1098B13.lpd\n",
      "1.32 MB :That's a big file! This may take a while to load...\n",
      "Finished read: 1 record\n"
     ]
    }
   ],
   "source": [
    "D1 = lipd.readLipd(\".\\Aus-StewartIsland.DArrigo.1996.lpd\")\n",
    "D2 = lipd.readLipd(\".\\BP00_07_05.lpd\")\n",
    "D3 = lipd.readLipd(\".\\CangoCave.Talma.1992.lpd\")\n",
    "D4 = lipd.readLipd(\".\\Chaohu.Li.2018.lpd\")\n",
    "D5 = lipd.readLipd(\".\\ODP1098B13.lpd\")"
   ]
  },
  {
   "cell_type": "code",
   "execution_count": 3,
   "metadata": {},
   "outputs": [
    {
     "data": {
      "text/plain": [
       "[{'author': \"D'Arrigo, Rosanne D.;Buckley, Brendan M.;Cook, Edward R.;Wagner, Wendy S.\",\n",
       "  'citeKey': 'd1996temperaturesensitivetreer',\n",
       "  'dataUrl': 'doi.org',\n",
       "  'journal': 'Palaeogeography, Palaeoclimatology, Palaeoecology',\n",
       "  'pages': '293-300',\n",
       "  'publisher': 'Elsevier BV',\n",
       "  'title': 'Temperature-sensitive tree-ring width chronologies of pink pine (Halocarpus biformis) from Stewart Island, New Zealand',\n",
       "  'type': 'article',\n",
       "  'volume': '119',\n",
       "  'year': '1996',\n",
       "  'doi': '10.1016/0031-0182(95)00014-3'},\n",
       " {'Urldate': '2013',\n",
       "  'author': \"D'Arrigo, R.D.\",\n",
       "  'citeKey': 'd2013httpswwwncdcnoaagovpaleostudy1003992DataCitation',\n",
       "  'institution': 'World Data Center for Paleoclimatology',\n",
       "  'title': 'World Data Center for Paleoclimatology',\n",
       "  'type': 'dataCitation',\n",
       "  'url': 'https://www.ncdc.noaa.gov/paleo/study/1003992'}]"
      ]
     },
     "execution_count": 3,
     "metadata": {},
     "output_type": "execute_result"
    }
   ],
   "source": [
    "D1['pub']"
   ]
  },
  {
   "cell_type": "code",
   "execution_count": 4,
   "metadata": {},
   "outputs": [
    {
     "data": {
      "text/plain": [
       "[{'doi': '10.1111/j.1502-3885.2005.tb01099.x'},\n",
       " {'doi': '10.1594/PANGAEA.754605'},\n",
       " {'doi': '10.1016/j.margeo.2004.01.008'}]"
      ]
     },
     "execution_count": 4,
     "metadata": {},
     "output_type": "execute_result"
    }
   ],
   "source": [
    "D2['pub']"
   ]
  },
  {
   "cell_type": "code",
   "execution_count": 5,
   "metadata": {},
   "outputs": [
    {
     "data": {
      "text/plain": [
       "[{'author': [{'name': 'Talma, A.S.; Vogel, John C.'}],\n",
       "  'doi': '10.1016/0033-5894(92)90082-T',\n",
       "  'citeKey': 'MV73B89D',\n",
       "  'journal': 'Quaternary Research',\n",
       "  'title': 'Late Quaternary paleotemperatures derived from a speleothem from Cango Caves, Cape Province, South Africa',\n",
       "  'year': 1992,\n",
       "  'pages': '203   213',\n",
       "  'issue': '2',\n",
       "  'volume': '37'}]"
      ]
     },
     "execution_count": 5,
     "metadata": {},
     "output_type": "execute_result"
    }
   ],
   "source": [
    "D3['pub']"
   ]
  },
  {
   "cell_type": "code",
   "execution_count": 6,
   "metadata": {},
   "outputs": [
    {
     "data": {
      "text/plain": [
       "[{'author': [{'name': 'Li, Jianyong; Dodson, John; Yan, Hong; Wang, Weiming; Innes, James B.; Zong, Yongqiang; Zhang, Xiaojian; Xu, Qinghai; Ni, Jian; Lu, Fengyan'}],\n",
       "  'doi': '10.1007/s00382-017-3664-3',\n",
       "  'citeKey': 'WK5H9IIR',\n",
       "  'journal': 'Climate Dynamics',\n",
       "  'title': 'Quantitative Holocene climatic reconstructions for the lower Yangtze region of China',\n",
       "  'year': 2018,\n",
       "  'pages': '1101   1113',\n",
       "  'issue': '4-Mar',\n",
       "  'volume': '50'}]"
      ]
     },
     "execution_count": 6,
     "metadata": {},
     "output_type": "execute_result"
    }
   ],
   "source": [
    "D4['pub']"
   ]
  },
  {
   "cell_type": "code",
   "execution_count": 7,
   "metadata": {},
   "outputs": [
    {
     "data": {
      "text/plain": [
       "[{'Journal': 'USGS Open-File Report 2007-1047',\n",
       "  'title': 'Orbital and atmospheric forcing of western Antarctic Peninsula climate in the Holocene: The TEX86 paleotemperature record of Palmer Deep',\n",
       "  'year': 2007},\n",
       " {'title': 'Chronology of the Palmer Deep site, Antarctic Peninsula: a Holocene palaeoenvironmental reference for the circum-Antarctic',\n",
       "  'year': 2001,\n",
       "  'doi': 'oi:10.1191/095968301673881493'}]"
      ]
     },
     "execution_count": 7,
     "metadata": {},
     "output_type": "execute_result"
    }
   ],
   "source": [
    "D5['pub']"
   ]
  },
  {
   "cell_type": "code",
   "execution_count": 8,
   "metadata": {},
   "outputs": [
    {
     "name": "stdout",
     "output_type": "stream",
     "text": [
      "dict_keys(['author', 'citeKey', 'dataUrl', 'journal', 'pages', 'publisher', 'title', 'type', 'volume', 'year', 'doi'])\n",
      "dict_keys(['Urldate', 'author', 'citeKey', 'institution', 'title', 'type', 'url'])\n",
      "dict_keys(['doi'])\n",
      "dict_keys(['doi'])\n",
      "dict_keys(['doi'])\n",
      "dict_keys(['author', 'doi', 'citeKey', 'journal', 'title', 'year', 'pages', 'issue', 'volume'])\n",
      "dict_keys(['author', 'doi', 'citeKey', 'journal', 'title', 'year', 'pages', 'issue', 'volume'])\n",
      "dict_keys(['Journal', 'title', 'year'])\n",
      "dict_keys(['title', 'year', 'doi'])\n"
     ]
    }
   ],
   "source": [
    "Ds = [D1, D2, D3, D4, D5]\n",
    "   \n",
    "for D in Ds:\n",
    "    for d in D['pub']:\n",
    "             \n",
    "        print(d.keys())\n",
    "    "
   ]
  },
  {
   "cell_type": "code",
   "execution_count": 9,
   "metadata": {
    "scrolled": true
   },
   "outputs": [
    {
     "data": {
      "text/plain": [
       "{'type': 'Feature',\n",
       " 'geometry': {'coordinates': [167.8, -47, 450], 'type': 'Point'},\n",
       " 'properties': {'pages2kRegion': 'Aus', 'siteName': 'Stewart Island'}}"
      ]
     },
     "execution_count": 9,
     "metadata": {},
     "output_type": "execute_result"
    }
   ],
   "source": [
    "D1['geo']   "
   ]
  },
  {
   "cell_type": "code",
   "execution_count": 10,
   "metadata": {},
   "outputs": [
    {
     "data": {
      "text/plain": [
       "{'geometry': {'coordinates': [81.1411, 74.6576, -38]},\n",
       " 'notes': 'NA',\n",
       " 'siteName': 'BP00_07_05'}"
      ]
     },
     "execution_count": 10,
     "metadata": {},
     "output_type": "execute_result"
    }
   ],
   "source": [
    "D2['geo']   "
   ]
  },
  {
   "cell_type": "code",
   "execution_count": 11,
   "metadata": {},
   "outputs": [
    {
     "data": {
      "text/plain": [
       "{'geometry': {'coordinates': [22.214, -33.3926, 670]},\n",
       " 'siteName': 'Cango Cave',\n",
       " 'country': 'South Africa',\n",
       " 'countryOcean': 'Africa>Southern Africa>South Africa',\n",
       " 'gcmdLocation': 'Africa>Southern Africa>South Africa'}"
      ]
     },
     "execution_count": 11,
     "metadata": {},
     "output_type": "execute_result"
    }
   ],
   "source": [
    "D3['geo']"
   ]
  },
  {
   "cell_type": "code",
   "execution_count": 12,
   "metadata": {},
   "outputs": [
    {
     "data": {
      "text/plain": [
       "{'geometry': {'coordinates': [117.39, 31.56, 10]},\n",
       " 'siteName': 'Chaohu',\n",
       " 'country': 'China',\n",
       " 'countryOcean': 'Asia>Eastern Asia>China',\n",
       " 'gcmdLocation': 'Asia>Eastern Asia>China'}"
      ]
     },
     "execution_count": 12,
     "metadata": {},
     "output_type": "execute_result"
    }
   ],
   "source": [
    "D4['geo']"
   ]
  },
  {
   "cell_type": "code",
   "execution_count": 13,
   "metadata": {},
   "outputs": [
    {
     "data": {
      "text/plain": [
       "{'geometry': {'coordinates': [-64.86, -64.2, -1011], 'type': 'Point'},\n",
       " 'type': 'Feature'}"
      ]
     },
     "execution_count": 13,
     "metadata": {},
     "output_type": "execute_result"
    }
   ],
   "source": [
    "D5['geo']"
   ]
  }
 ],
 "metadata": {
  "kernelspec": {
   "display_name": "Python 3",
   "language": "python",
   "name": "python3"
  },
  "language_info": {
   "codemirror_mode": {
    "name": "ipython",
    "version": 3
   },
   "file_extension": ".py",
   "mimetype": "text/x-python",
   "name": "python",
   "nbconvert_exporter": "python",
   "pygments_lexer": "ipython3",
   "version": "3.7.2"
  }
 },
 "nbformat": 4,
 "nbformat_minor": 4
}
